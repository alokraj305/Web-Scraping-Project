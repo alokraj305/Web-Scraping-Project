{
 "cells": [
  {
   "cell_type": "code",
   "execution_count": 1,
   "id": "eca77488-a4b7-4883-8d1c-3a55aa9c7421",
   "metadata": {},
   "outputs": [],
   "source": [
    "import requests"
   ]
  },
  {
   "cell_type": "code",
   "execution_count": 2,
   "id": "cca17134-dc87-4a41-a21b-32aa9c23598e",
   "metadata": {},
   "outputs": [],
   "source": [
    "from bs4 import BeautifulSoup"
   ]
  },
  {
   "cell_type": "code",
   "execution_count": 3,
   "id": "3475bb61-e828-4e17-a314-b0b358b4298d",
   "metadata": {},
   "outputs": [],
   "source": [
    "import pprint"
   ]
  },
  {
   "cell_type": "code",
   "execution_count": 4,
   "id": "0e1bd2e0-96c3-4cfa-95cf-16d94521b4b4",
   "metadata": {},
   "outputs": [],
   "source": [
    "res = requests.get('https://news.ycombinator.com/')\n",
    "res2 = requests.get('https://news.ycombinator.com/news?p=2')\n",
    "res3 = requests.get('https://news.ycombinator.com/news?p=3')"
   ]
  },
  {
   "cell_type": "code",
   "execution_count": 5,
   "id": "6b3a2d19-d2b1-4b1b-a8d8-08dea7330b78",
   "metadata": {},
   "outputs": [],
   "source": [
    "# print(res.text)"
   ]
  },
  {
   "cell_type": "code",
   "execution_count": 6,
   "id": "0e715752-d507-4a74-bccb-b24d7a929799",
   "metadata": {},
   "outputs": [],
   "source": [
    "soup = BeautifulSoup(res.text, 'html.parser')\n",
    "soup2 = BeautifulSoup(res2.text, 'html.parser')\n",
    "soup3 = BeautifulSoup(res3.text, 'html.parser')"
   ]
  },
  {
   "cell_type": "code",
   "execution_count": 7,
   "id": "ced62639-1909-4ae5-b19a-7a179c75b2ce",
   "metadata": {},
   "outputs": [
    {
     "name": "stdout",
     "output_type": "stream",
     "text": [
      "[<center><table bgcolor=\"#f6f6ef\" border=\"0\" cellpadding=\"0\" cellspacing=\"0\" id=\"hnmain\" width=\"85%\">\n",
      "<tr><td bgcolor=\"#ff6600\"><table border=\"0\" cellpadding=\"0\" cellspacing=\"0\" style=\"padding:2px\" width=\"100%\"><tr><td style=\"width:18px;padding-right:4px\"><a href=\"https://news.ycombinator.com\"><img height=\"18\" src=\"y18.gif\" style=\"border:1px white solid;\" width=\"18\"/></a></td>\n",
      "<td style=\"line-height:12pt; height:10px;\"><span class=\"pagetop\"><b class=\"hnname\"><a href=\"news\">Hacker News</a></b>\n",
      "<a href=\"newest\">new</a> | <a href=\"front\">past</a> | <a href=\"newcomments\">comments</a> | <a href=\"ask\">ask</a> | <a href=\"show\">show</a> | <a href=\"jobs\">jobs</a> | <a href=\"submit\">submit</a> </span></td><td style=\"text-align:right;padding-right:4px;\"><span class=\"pagetop\">\n",
      "<a href=\"login?goto=news\">login</a>\n",
      "</span></td>\n",
      "</tr></table></td></tr>\n",
      "<tr id=\"pagespace\" style=\"height:10px\" title=\"\"></tr><tr><td><table border=\"0\" cellpadding=\"0\" cellspacing=\"0\" class=\"itemlist\">\n",
      "<tr class=\"athing\" id=\"32266086\">\n",
      "<td align=\"right\" class=\"title\" valign=\"top\"><span class=\"rank\">1.</span></td> <td class=\"votelinks\" valign=\"top\"><center><a href=\"vote?id=32266086&amp;how=up&amp;goto=news\" id=\"up_32266086\"><div class=\"votearrow\" title=\"upvote\"></div></a></center></td><td class=\"title\"><a class=\"titlelink\" href=\"https://www.parsnip.ai/\">Show HN: Parsnip – “Duolingo for Cooking”</a><span class=\"sitebit comhead\"> (<a href=\"from?site=parsnip.ai\"><span class=\"sitestr\">parsnip.ai</span></a>)</span></td></tr><tr><td colspan=\"2\"></td><td class=\"subtext\">\n",
      "<span class=\"score\" id=\"score_32266086\">152 points</span> by <a class=\"hnuser\" href=\"user?id=mizzao\">mizzao</a> <span class=\"age\" title=\"2022-07-28T15:57:12\"><a href=\"item?id=32266086\">2 hours ago</a></span> <span id=\"unv_32266086\"></span> | <a href=\"hide?id=32266086&amp;goto=news\">hide</a> | <a href=\"item?id=32266086\">83 comments</a> </td></tr>\n",
      "<tr class=\"spacer\" style=\"height:5px\"></tr>\n",
      "<tr class=\"athing\" id=\"32267222\">\n",
      "<td align=\"right\" class=\"title\" valign=\"top\"><span class=\"rank\">2.</span></td> <td class=\"votelinks\" valign=\"top\"><center><a href=\"vote?id=32267222&amp;how=up&amp;goto=news\" id=\"up_32267222\"><div class=\"votearrow\" title=\"upvote\"></div></a></center></td><td class=\"title\"><a class=\"titlelink\" href=\"item?id=32267222\">AWS us-east-2 outage</a></td></tr><tr><td colspan=\"2\"></td><td class=\"subtext\">\n",
      "<span class=\"score\" id=\"score_32267222\">143 points</span> by <a class=\"hnuser\" href=\"user?id=jchen42\">jchen42</a> <span class=\"age\" title=\"2022-07-28T17:09:05\"><a href=\"item?id=32267222\">1 hour ago</a></span> <span id=\"unv_32267222\"></span> | <a href=\"hide?id=32267222&amp;goto=news\">hide</a> | <a href=\"item?id=32267222\">42 comments</a> </td></tr>\n",
      "<tr class=\"spacer\" style=\"height:5px\"></tr>\n",
      "<tr class=\"athing\" id=\"32262856\">\n",
      "<td align=\"right\" class=\"title\" valign=\"top\"><span class=\"rank\">3.</span></td> <td class=\"votelinks\" valign=\"top\"><center><a href=\"vote?id=32262856&amp;how=up&amp;goto=news\" id=\"up_32262856\"><div class=\"votearrow\" title=\"upvote\"></div></a></center></td><td class=\"title\"><a class=\"titlelink\" href=\"https://www.deepmind.com/blog/alphafold-reveals-the-structure-of-the-protein-universe\">AlphaFold reveals the structure of the protein universe</a><span class=\"sitebit comhead\"> (<a href=\"from?site=deepmind.com\"><span class=\"sitestr\">deepmind.com</span></a>)</span></td></tr><tr><td colspan=\"2\"></td><td class=\"subtext\">\n",
      "<span class=\"score\" id=\"score_32262856\">422 points</span> by <a class=\"hnuser\" href=\"user?id=MindGods\">MindGods</a> <span class=\"age\" title=\"2022-07-28T11:18:14\"><a href=\"item?id=32262856\">6 hours ago</a></span> <span id=\"unv_32262856\"></span> | <a href=\"hide?id=32262856&amp;goto=news\">hide</a> | <a href=\"item?id=32262856\">171 comments</a> </td></tr>\n",
      "<tr class=\"spacer\" style=\"height:5px\"></tr>\n",
      "<tr class=\"athing\" id=\"32267817\">\n",
      "<td align=\"right\" class=\"title\" valign=\"top\"><span class=\"rank\">4.</span></td> <td class=\"votelinks\" valign=\"top\"><center><a href=\"vote?id=32267817&amp;how=up&amp;goto=news\" id=\"up_32267817\"><div class=\"votearrow\" title=\"upvote\"></div></a></center></td><td class=\"title\"><a class=\"titlelink\" href=\"http://groups.csail.mit.edu/mac/users/bob/clarisworks.php\">Folklore of ClarisWorks</a><span class=\"sitebit comhead\"> (<a href=\"from?site=csail.mit.edu\"><span class=\"sitestr\">csail.mit.edu</span></a>)</span></td></tr><tr><td colspan=\"2\"></td><td class=\"subtext\">\n",
      "<span class=\"score\" id=\"score_32267817\">17 points</span> by <a class=\"hnuser\" href=\"user?id=azinman2\">azinman2</a> <span class=\"age\" title=\"2022-07-28T17:45:54\"><a href=\"item?id=32267817\">30 minutes ago</a></span> <span id=\"unv_32267817\"></span> | <a href=\"hide?id=32267817&amp;goto=news\">hide</a> | <a href=\"item?id=32267817\">3 comments</a> </td></tr>\n",
      "<tr class=\"spacer\" style=\"height:5px\"></tr>\n",
      "<tr class=\"athing\" id=\"32267287\">\n",
      "<td align=\"right\" class=\"title\" valign=\"top\"><span class=\"rank\">5.</span></td> <td class=\"votelinks\" valign=\"top\"><center><a href=\"vote?id=32267287&amp;how=up&amp;goto=news\" id=\"up_32267287\"><div class=\"votearrow\" title=\"upvote\"></div></a></center></td><td class=\"title\"><a class=\"titlelink\" href=\"https://www.edgedb.com/blog/edgedb-2-0\">EdgeDB 2.0</a><span class=\"sitebit comhead\"> (<a href=\"from?site=edgedb.com\"><span class=\"sitestr\">edgedb.com</span></a>)</span></td></tr><tr><td colspan=\"2\"></td><td class=\"subtext\">\n",
      "<span class=\"score\" id=\"score_32267287\">42 points</span> by <a class=\"hnuser\" href=\"user?id=syrusakbary\">syrusakbary</a> <span class=\"age\" title=\"2022-07-28T17:12:36\"><a href=\"item?id=32267287\">1 hour ago</a></span> <span id=\"unv_32267287\"></span> | <a href=\"hide?id=32267287&amp;goto=news\">hide</a> | <a href=\"item?id=32267287\">18 comments</a> </td></tr>\n",
      "<tr class=\"spacer\" style=\"height:5px\"></tr>\n",
      "<tr class=\"athing\" id=\"32262545\">\n",
      "<td align=\"right\" class=\"title\" valign=\"top\"><span class=\"rank\">6.</span></td> <td class=\"votelinks\" valign=\"top\"><center><a href=\"vote?id=32262545&amp;how=up&amp;goto=news\" id=\"up_32262545\"><div class=\"votearrow\" title=\"upvote\"></div></a></center></td><td class=\"title\"><a class=\"titlelink\" href=\"https://arxiv.org/abs/2207.03005\">Mission to reach and operate at the focal region of the solar gravitational lens</a><span class=\"sitebit comhead\"> (<a href=\"from?site=arxiv.org\"><span class=\"sitestr\">arxiv.org</span></a>)</span></td></tr><tr><td colspan=\"2\"></td><td class=\"subtext\">\n",
      "<span class=\"score\" id=\"score_32262545\">233 points</span> by <a class=\"hnuser\" href=\"user?id=WithinReason\">WithinReason</a> <span class=\"age\" title=\"2022-07-28T10:22:06\"><a href=\"item?id=32262545\">7 hours ago</a></span> <span id=\"unv_32262545\"></span> | <a href=\"hide?id=32262545&amp;goto=news\">hide</a> | <a href=\"item?id=32262545\">80 comments</a> </td></tr>\n",
      "<tr class=\"spacer\" style=\"height:5px\"></tr>\n",
      "<tr class=\"athing\" id=\"32265223\">\n",
      "<td align=\"right\" class=\"title\" valign=\"top\"><span class=\"rank\">7.</span></td> <td class=\"votelinks\" valign=\"top\"><center><a href=\"vote?id=32265223&amp;how=up&amp;goto=news\" id=\"up_32265223\"><div class=\"votearrow\" title=\"upvote\"></div></a></center></td><td class=\"title\"><a class=\"titlelink\" href=\"item?id=32265223\">My newsletter is making $2k per month with 7k subscribers – AMA</a></td></tr><tr><td colspan=\"2\"></td><td class=\"subtext\">\n",
      "<span class=\"score\" id=\"score_32265223\">166 points</span> by <a class=\"hnuser\" href=\"user?id=ryangilbert\">ryangilbert</a> <span class=\"age\" title=\"2022-07-28T14:57:27\"><a href=\"item?id=32265223\">3 hours ago</a></span> <span id=\"unv_32265223\"></span> | <a href=\"hide?id=32265223&amp;goto=news\">hide</a> | <a href=\"item?id=32265223\">110 comments</a> </td></tr>\n",
      "<tr class=\"spacer\" style=\"height:5px\"></tr>\n",
      "<tr class=\"athing\" id=\"32266177\">\n",
      "<td align=\"right\" class=\"title\" valign=\"top\"><span class=\"rank\">8.</span></td> <td class=\"votelinks\" valign=\"top\"><center><a href=\"vote?id=32266177&amp;how=up&amp;goto=news\" id=\"up_32266177\"><div class=\"votearrow\" title=\"upvote\"></div></a></center></td><td class=\"title\"><a class=\"titlelink\" href=\"https://www.getlago.com/blog/generating-pdf-invoices-using-lago\">Open-source API to generate PDF invoices</a><span class=\"sitebit comhead\"> (<a href=\"from?site=getlago.com\"><span class=\"sitestr\">getlago.com</span></a>)</span></td></tr><tr><td colspan=\"2\"></td><td class=\"subtext\">\n",
      "<span class=\"score\" id=\"score_32266177\">42 points</span> by <a class=\"hnuser\" href=\"user?id=math_reads\">math_reads</a> <span class=\"age\" title=\"2022-07-28T16:02:08\"><a href=\"item?id=32266177\">2 hours ago</a></span> <span id=\"unv_32266177\"></span> | <a href=\"hide?id=32266177&amp;goto=news\">hide</a> | <a href=\"item?id=32266177\">30 comments</a> </td></tr>\n",
      "<tr class=\"spacer\" style=\"height:5px\"></tr>\n",
      "<tr class=\"athing\" id=\"32267068\">\n",
      "<td align=\"right\" class=\"title\" valign=\"top\"><span class=\"rank\">9.</span></td> <td></td><td class=\"title\"><a class=\"titlelink\" href=\"https://upchieve.welcomekit.co/\" rel=\"nofollow\">UPchieve (EdTech Nonprofit, YC W21) is hiring senior engineers</a><span class=\"sitebit comhead\"> (<a href=\"from?site=welcomekit.co\"><span class=\"sitestr\">welcomekit.co</span></a>)</span></td></tr><tr><td colspan=\"2\"></td><td class=\"subtext\">\n",
      "<span class=\"age\" title=\"2022-07-28T17:00:40\"><a href=\"item?id=32267068\">1 hour ago</a></span> | <a href=\"hide?id=32267068&amp;goto=news\">hide</a> </td></tr>\n",
      "<tr class=\"spacer\" style=\"height:5px\"></tr>\n",
      "<tr class=\"athing\" id=\"32263914\">\n",
      "<td align=\"right\" class=\"title\" valign=\"top\"><span class=\"rank\">10.</span></td> <td class=\"votelinks\" valign=\"top\"><center><a href=\"vote?id=32263914&amp;how=up&amp;goto=news\" id=\"up_32263914\"><div class=\"votearrow\" title=\"upvote\"></div></a></center></td><td class=\"title\"><a class=\"titlelink\" href=\"https://www.cwi.nl/news/2022/in-memoriam-martin-kersten\">Martin Kersten, creator of MonetDB, has died</a><span class=\"sitebit comhead\"> (<a href=\"from?site=cwi.nl\"><span class=\"sitestr\">cwi.nl</span></a>)</span></td></tr><tr><td colspan=\"2\"></td><td class=\"subtext\">\n",
      "<span class=\"score\" id=\"score_32263914\">96 points</span> by <a class=\"hnuser\" href=\"user?id=greghn\">greghn</a> <span class=\"age\" title=\"2022-07-28T13:22:14\"><a href=\"item?id=32263914\">4 hours ago</a></span> <span id=\"unv_32263914\"></span> | <a href=\"hide?id=32263914&amp;goto=news\">hide</a> | <a href=\"item?id=32263914\">17 comments</a> </td></tr>\n",
      "<tr class=\"spacer\" style=\"height:5px\"></tr>\n",
      "<tr class=\"athing\" id=\"32267016\">\n",
      "<td align=\"right\" class=\"title\" valign=\"top\"><span class=\"rank\">11.</span></td> <td class=\"votelinks\" valign=\"top\"><center><a href=\"vote?id=32267016&amp;how=up&amp;goto=news\" id=\"up_32267016\"><div class=\"votearrow\" title=\"upvote\"></div></a></center></td><td class=\"title\"><a class=\"titlelink\" href=\"https://gist.github.com/moyix/7896575befbe1b99162ccfec8d135566\">Using linear algebra to convert a large code model</a><span class=\"sitebit comhead\"> (<a href=\"from?site=gist.github.com\"><span class=\"sitestr\">gist.github.com</span></a>)</span></td></tr><tr><td colspan=\"2\"></td><td class=\"subtext\">\n",
      "<span class=\"score\" id=\"score_32267016\">16 points</span> by <a class=\"hnuser\" href=\"user?id=moyix\">moyix</a> <span class=\"age\" title=\"2022-07-28T16:57:11\"><a href=\"item?id=32267016\">1 hour ago</a></span> <span id=\"unv_32267016\"></span> | <a href=\"hide?id=32267016&amp;goto=news\">hide</a> | <a href=\"item?id=32267016\">2 comments</a> </td></tr>\n",
      "<tr class=\"spacer\" style=\"height:5px\"></tr>\n",
      "<tr class=\"athing\" id=\"32264942\">\n",
      "<td align=\"right\" class=\"title\" valign=\"top\"><span class=\"rank\">12.</span></td> <td class=\"votelinks\" valign=\"top\"><center><a href=\"vote?id=32264942&amp;how=up&amp;goto=news\" id=\"up_32264942\"><div class=\"votearrow\" title=\"upvote\"></div></a></center></td><td class=\"title\"><a class=\"titlelink\" href=\"http://harmful.cat-v.org/people/basic-laws-of-human-stupidity/\">Five Laws of Human Stupidity</a><span class=\"sitebit comhead\"> (<a href=\"from?site=cat-v.org\"><span class=\"sitestr\">cat-v.org</span></a>)</span></td></tr><tr><td colspan=\"2\"></td><td class=\"subtext\">\n",
      "<span class=\"score\" id=\"score_32264942\">45 points</span> by <a class=\"hnuser\" href=\"user?id=Budaa\">Budaa</a> <span class=\"age\" title=\"2022-07-28T14:39:16\"><a href=\"item?id=32264942\">3 hours ago</a></span> <span id=\"unv_32264942\"></span> | <a href=\"hide?id=32264942&amp;goto=news\">hide</a> | <a href=\"item?id=32264942\">16 comments</a> </td></tr>\n",
      "<tr class=\"spacer\" style=\"height:5px\"></tr>\n",
      "<tr class=\"athing\" id=\"32267266\">\n",
      "<td align=\"right\" class=\"title\" valign=\"top\"><span class=\"rank\">13.</span></td> <td class=\"votelinks\" valign=\"top\"><center><a href=\"vote?id=32267266&amp;how=up&amp;goto=news\" id=\"up_32267266\"><div class=\"votearrow\" title=\"upvote\"></div></a></center></td><td class=\"title\"><a class=\"titlelink\" href=\"https://reason.com/2022/07/26/what-is-the-fbi-hiding-about-its-raid-on-innocent-americans-safe-deposit-boxes/\">FBI is hiding details about a raid on Americans’ safe deposit boxes</a><span class=\"sitebit comhead\"> (<a href=\"from?site=reason.com\"><span class=\"sitestr\">reason.com</span></a>)</span></td></tr><tr><td colspan=\"2\"></td><td class=\"subtext\">\n",
      "<span class=\"score\" id=\"score_32267266\">62 points</span> by <a class=\"hnuser\" href=\"user?id=theflyingelvis\">theflyingelvis</a> <span class=\"age\" title=\"2022-07-28T17:11:23\"><a href=\"item?id=32267266\">1 hour ago</a></span> <span id=\"unv_32267266\"></span> | <a href=\"hide?id=32267266&amp;goto=news\">hide</a> | <a href=\"item?id=32267266\">14 comments</a> </td></tr>\n",
      "<tr class=\"spacer\" style=\"height:5px\"></tr>\n",
      "<tr class=\"athing\" id=\"32266351\">\n",
      "<td align=\"right\" class=\"title\" valign=\"top\"><span class=\"rank\">14.</span></td> <td class=\"votelinks\" valign=\"top\"><center><a href=\"vote?id=32266351&amp;how=up&amp;goto=news\" id=\"up_32266351\"><div class=\"votearrow\" title=\"upvote\"></div></a></center></td><td class=\"title\"><a class=\"titlelink\" href=\"https://www.papercutslibrary.com/process-notes/a-non-exhaustive-yet-fairly-thorough-view-of-big-tech-via-amazon-apple-alphabet-and-microsofts-consumer-product-lines/\">Visualization of Amazon, Apple, Alphabet, and Microsoft’s Consumer Product Lines</a><span class=\"sitebit comhead\"> (<a href=\"from?site=papercutslibrary.com\"><span class=\"sitestr\">papercutslibrary.com</span></a>)</span></td></tr><tr><td colspan=\"2\"></td><td class=\"subtext\">\n",
      "<span class=\"score\" id=\"score_32266351\">24 points</span> by <a class=\"hnuser\" href=\"user?id=apeconmyth\">apeconmyth</a> <span class=\"age\" title=\"2022-07-28T16:13:10\"><a href=\"item?id=32266351\">2 hours ago</a></span> <span id=\"unv_32266351\"></span> | <a href=\"hide?id=32266351&amp;goto=news\">hide</a> | <a href=\"item?id=32266351\">12 comments</a> </td></tr>\n",
      "<tr class=\"spacer\" style=\"height:5px\"></tr>\n",
      "<tr class=\"athing\" id=\"32263777\">\n",
      "<td align=\"right\" class=\"title\" valign=\"top\"><span class=\"rank\">15.</span></td> <td class=\"votelinks\" valign=\"top\"><center><a href=\"vote?id=32263777&amp;how=up&amp;goto=news\" id=\"up_32263777\"><div class=\"votearrow\" title=\"upvote\"></div></a></center></td><td class=\"title\"><a class=\"titlelink\" href=\"https://nibblestew.blogspot.com/2022/07/that-time-when-i-accidentally-social.html\">That time when I accidentally social engineered myself to a film set</a><span class=\"sitebit comhead\"> (<a href=\"from?site=nibblestew.blogspot.com\"><span class=\"sitestr\">nibblestew.blogspot.com</span></a>)</span></td></tr><tr><td colspan=\"2\"></td><td class=\"subtext\">\n",
      "<span class=\"score\" id=\"score_32263777\">90 points</span> by <a class=\"hnuser\" href=\"user?id=rossvor\">rossvor</a> <span class=\"age\" title=\"2022-07-28T13:09:29\"><a href=\"item?id=32263777\">5 hours ago</a></span> <span id=\"unv_32263777\"></span> | <a href=\"hide?id=32263777&amp;goto=news\">hide</a> | <a href=\"item?id=32263777\">102 comments</a> </td></tr>\n",
      "<tr class=\"spacer\" style=\"height:5px\"></tr>\n",
      "<tr class=\"athing\" id=\"32264372\">\n",
      "<td align=\"right\" class=\"title\" valign=\"top\"><span class=\"rank\">16.</span></td> <td class=\"votelinks\" valign=\"top\"><center><a href=\"vote?id=32264372&amp;how=up&amp;goto=news\" id=\"up_32264372\"><div class=\"votearrow\" title=\"upvote\"></div></a></center></td><td class=\"title\"><a class=\"titlelink\" href=\"https://pxlnv.com/blog/unplugged-mysteries/\">Unplugged Phone Mysteries</a><span class=\"sitebit comhead\"> (<a href=\"from?site=pxlnv.com\"><span class=\"sitestr\">pxlnv.com</span></a>)</span></td></tr><tr><td colspan=\"2\"></td><td class=\"subtext\">\n",
      "<span class=\"score\" id=\"score_32264372\">59 points</span> by <a class=\"hnuser\" href=\"user?id=hampelm\">hampelm</a> <span class=\"age\" title=\"2022-07-28T13:58:41\"><a href=\"item?id=32264372\">4 hours ago</a></span> <span id=\"unv_32264372\"></span> | <a href=\"hide?id=32264372&amp;goto=news\">hide</a> | <a href=\"item?id=32264372\">25 comments</a> </td></tr>\n",
      "<tr class=\"spacer\" style=\"height:5px\"></tr>\n",
      "<tr class=\"athing\" id=\"32263535\">\n",
      "<td align=\"right\" class=\"title\" valign=\"top\"><span class=\"rank\">17.</span></td> <td class=\"votelinks\" valign=\"top\"><center><a href=\"vote?id=32263535&amp;how=up&amp;goto=news\" id=\"up_32263535\"><div class=\"votearrow\" title=\"upvote\"></div></a></center></td><td class=\"title\"><a class=\"titlelink\" href=\"https://km-515.livejournal.com/1042.html\">Oldest and Fatherless: The Terrible Secret of Tom Bombadil (2011)</a><span class=\"sitebit comhead\"> (<a href=\"from?site=km-515.livejournal.com\"><span class=\"sitestr\">km-515.livejournal.com</span></a>)</span></td></tr><tr><td colspan=\"2\"></td><td class=\"subtext\">\n",
      "<span class=\"score\" id=\"score_32263535\">290 points</span> by <a class=\"hnuser\" href=\"user?id=ibobev\">ibobev</a> <span class=\"age\" title=\"2022-07-28T12:45:16\"><a href=\"item?id=32263535\">5 hours ago</a></span> <span id=\"unv_32263535\"></span> | <a href=\"hide?id=32263535&amp;goto=news\">hide</a> | <a href=\"item?id=32263535\">264 comments</a> </td></tr>\n",
      "<tr class=\"spacer\" style=\"height:5px\"></tr>\n",
      "<tr class=\"athing\" id=\"32265184\">\n",
      "<td align=\"right\" class=\"title\" valign=\"top\"><span class=\"rank\">18.</span></td> <td class=\"votelinks\" valign=\"top\"><center><a href=\"vote?id=32265184&amp;how=up&amp;goto=news\" id=\"up_32265184\"><div class=\"votearrow\" title=\"upvote\"></div></a></center></td><td class=\"title\"><a class=\"titlelink\" href=\"https://seekingalpha.com/news/3862127-house-democrats-to-propose-stock-trading-ban-in-august-report\">House Democrats to propose ban on lawmaker stock trading – report</a><span class=\"sitebit comhead\"> (<a href=\"from?site=seekingalpha.com\"><span class=\"sitestr\">seekingalpha.com</span></a>)</span></td></tr><tr><td colspan=\"2\"></td><td class=\"subtext\">\n",
      "<span class=\"score\" id=\"score_32265184\">216 points</span> by <a class=\"hnuser\" href=\"user?id=thesecretceo\">thesecretceo</a> <span class=\"age\" title=\"2022-07-28T14:54:29\"><a href=\"item?id=32265184\">3 hours ago</a></span> <span id=\"unv_32265184\"></span> | <a href=\"hide?id=32265184&amp;goto=news\">hide</a> | <a href=\"item?id=32265184\">148 comments</a> </td></tr>\n",
      "<tr class=\"spacer\" style=\"height:5px\"></tr>\n",
      "<tr class=\"athing\" id=\"32267154\">\n",
      "<td align=\"right\" class=\"title\" valign=\"top\"><span class=\"rank\">19.</span></td> <td class=\"votelinks\" valign=\"top\"><center><a href=\"vote?id=32267154&amp;how=up&amp;goto=news\" id=\"up_32267154\"><div class=\"votearrow\" title=\"upvote\"></div></a></center></td><td class=\"title\"><a class=\"titlelink\" href=\"https://status.zoom.us\">AWS us-east-2 outage</a><span class=\"sitebit comhead\"> (<a href=\"from?site=zoom.us\"><span class=\"sitestr\">zoom.us</span></a>)</span></td></tr><tr><td colspan=\"2\"></td><td class=\"subtext\">\n",
      "<span class=\"score\" id=\"score_32267154\">77 points</span> by <a class=\"hnuser\" href=\"user?id=kaustubhvp\">kaustubhvp</a> <span class=\"age\" title=\"2022-07-28T17:05:05\"><a href=\"item?id=32267154\">1 hour ago</a></span> <span id=\"unv_32267154\"></span> | <a href=\"hide?id=32267154&amp;goto=news\">hide</a> | <a href=\"item?id=32267154\">37 comments</a> </td></tr>\n",
      "<tr class=\"spacer\" style=\"height:5px\"></tr>\n",
      "<tr class=\"athing\" id=\"32261363\">\n",
      "<td align=\"right\" class=\"title\" valign=\"top\"><span class=\"rank\">20.</span></td> <td class=\"votelinks\" valign=\"top\"><center><a href=\"vote?id=32261363&amp;how=up&amp;goto=news\" id=\"up_32261363\"><div class=\"votearrow\" title=\"upvote\"></div></a></center></td><td class=\"title\"><a class=\"titlelink\" href=\"https://github.com/jorgef/engineeringladders\">A Framework for Engineering Managers</a><span class=\"sitebit comhead\"> (<a href=\"from?site=github.com/jorgef\"><span class=\"sitestr\">github.com/jorgef</span></a>)</span></td></tr><tr><td colspan=\"2\"></td><td class=\"subtext\">\n",
      "<span class=\"score\" id=\"score_32261363\">296 points</span> by <a class=\"hnuser\" href=\"user?id=aviramha\">aviramha</a> <span class=\"age\" title=\"2022-07-28T07:15:32\"><a href=\"item?id=32261363\">11 hours ago</a></span> <span id=\"unv_32261363\"></span> | <a href=\"hide?id=32261363&amp;goto=news\">hide</a> | <a href=\"item?id=32261363\">52 comments</a> </td></tr>\n",
      "<tr class=\"spacer\" style=\"height:5px\"></tr>\n",
      "<tr class=\"athing\" id=\"32267024\">\n",
      "<td align=\"right\" class=\"title\" valign=\"top\"><span class=\"rank\">21.</span></td> <td class=\"votelinks\" valign=\"top\"><center><a href=\"vote?id=32267024&amp;how=up&amp;goto=news\" id=\"up_32267024\"><div class=\"votearrow\" title=\"upvote\"></div></a></center></td><td class=\"title\"><a class=\"titlelink\" href=\"https://blog.salesforceairesearch.com/coderl/\">AI Coding with CodeRL: Toward Mastering Program Synthesis with Deep RL</a><span class=\"sitebit comhead\"> (<a href=\"from?site=salesforceairesearch.com\"><span class=\"sitestr\">salesforceairesearch.com</span></a>)</span></td></tr><tr><td colspan=\"2\"></td><td class=\"subtext\">\n",
      "<span class=\"score\" id=\"score_32267024\">10 points</span> by <a class=\"hnuser\" href=\"user?id=moyix\">moyix</a> <span class=\"age\" title=\"2022-07-28T16:57:40\"><a href=\"item?id=32267024\">1 hour ago</a></span> <span id=\"unv_32267024\"></span> | <a href=\"hide?id=32267024&amp;goto=news\">hide</a> | <a href=\"item?id=32267024\">discuss</a> </td></tr>\n",
      "<tr class=\"spacer\" style=\"height:5px\"></tr>\n",
      "<tr class=\"athing\" id=\"32263630\">\n",
      "<td align=\"right\" class=\"title\" valign=\"top\"><span class=\"rank\">22.</span></td> <td class=\"votelinks\" valign=\"top\"><center><a href=\"vote?id=32263630&amp;how=up&amp;goto=news\" id=\"up_32263630\"><div class=\"votearrow\" title=\"upvote\"></div></a></center></td><td class=\"title\"><a class=\"titlelink\" href=\"https://github.com/apple/swift-evolution/blob/main/proposals/0366-move-function.md\">Swift Proposal: Move Function</a><span class=\"sitebit comhead\"> (<a href=\"from?site=github.com/apple\"><span class=\"sitestr\">github.com/apple</span></a>)</span></td></tr><tr><td colspan=\"2\"></td><td class=\"subtext\">\n",
      "<span class=\"score\" id=\"score_32263630\">80 points</span> by <a class=\"hnuser\" href=\"user?id=todsacerdoti\">todsacerdoti</a> <span class=\"age\" title=\"2022-07-28T12:54:15\"><a href=\"item?id=32263630\">5 hours ago</a></span> <span id=\"unv_32263630\"></span> | <a href=\"hide?id=32263630&amp;goto=news\">hide</a> | <a href=\"item?id=32263630\">60 comments</a> </td></tr>\n",
      "<tr class=\"spacer\" style=\"height:5px\"></tr>\n",
      "<tr class=\"athing\" id=\"32264938\">\n",
      "<td align=\"right\" class=\"title\" valign=\"top\"><span class=\"rank\">23.</span></td> <td class=\"votelinks\" valign=\"top\"><center><a href=\"vote?id=32264938&amp;how=up&amp;goto=news\" id=\"up_32264938\"><div class=\"votearrow\" title=\"upvote\"></div></a></center></td><td class=\"title\"><a class=\"titlelink\" href=\"https://twitter.com/dweekly/status/1552148207248896001\">I won a suit against a party that sent me an unsolicited text message</a><span class=\"sitebit comhead\"> (<a href=\"from?site=twitter.com/dweekly\"><span class=\"sitestr\">twitter.com/dweekly</span></a>)</span></td></tr><tr><td colspan=\"2\"></td><td class=\"subtext\">\n",
      "<span class=\"score\" id=\"score_32264938\">149 points</span> by <a class=\"hnuser\" href=\"user?id=MrDunham\">MrDunham</a> <span class=\"age\" title=\"2022-07-28T14:39:09\"><a href=\"item?id=32264938\">3 hours ago</a></span> <span id=\"unv_32264938\"></span> | <a href=\"hide?id=32264938&amp;goto=news\">hide</a> | <a href=\"item?id=32264938\">63 comments</a> </td></tr>\n",
      "<tr class=\"spacer\" style=\"height:5px\"></tr>\n",
      "<tr class=\"athing\" id=\"32261802\">\n",
      "<td align=\"right\" class=\"title\" valign=\"top\"><span class=\"rank\">24.</span></td> <td class=\"votelinks\" valign=\"top\"><center><a href=\"vote?id=32261802&amp;how=up&amp;goto=news\" id=\"up_32261802\"><div class=\"votearrow\" title=\"upvote\"></div></a></center></td><td class=\"title\"><a class=\"titlelink\" href=\"https://support.apple.com/en-euro/HT212850\">About communication safety in Messages</a><span class=\"sitebit comhead\"> (<a href=\"from?site=support.apple.com\"><span class=\"sitestr\">support.apple.com</span></a>)</span></td></tr><tr><td colspan=\"2\"></td><td class=\"subtext\">\n",
      "<span class=\"score\" id=\"score_32261802\">126 points</span> by <a class=\"hnuser\" href=\"user?id=komape\">komape</a> <span class=\"age\" title=\"2022-07-28T08:41:58\"><a href=\"item?id=32261802\">9 hours ago</a></span> <span id=\"unv_32261802\"></span> | <a href=\"hide?id=32261802&amp;goto=news\">hide</a> | <a href=\"item?id=32261802\">274 comments</a> </td></tr>\n",
      "<tr class=\"spacer\" style=\"height:5px\"></tr>\n",
      "<tr class=\"athing\" id=\"32263444\">\n",
      "<td align=\"right\" class=\"title\" valign=\"top\"><span class=\"rank\">25.</span></td> <td class=\"votelinks\" valign=\"top\"><center><a href=\"vote?id=32263444&amp;how=up&amp;goto=news\" id=\"up_32263444\"><div class=\"votearrow\" title=\"upvote\"></div></a></center></td><td class=\"title\"><a class=\"titlelink\" href=\"https://www.bea.gov/news/2022/gross-domestic-product-second-quarter-2022-advance-estimate\">US Gross Domestic Product, Second Quarter 2022 (Advance Estimate)</a><span class=\"sitebit comhead\"> (<a href=\"from?site=bea.gov\"><span class=\"sitestr\">bea.gov</span></a>)</span></td></tr><tr><td colspan=\"2\"></td><td class=\"subtext\">\n",
      "<span class=\"score\" id=\"score_32263444\">155 points</span> by <a class=\"hnuser\" href=\"user?id=mrep\">mrep</a> <span class=\"age\" title=\"2022-07-28T12:35:37\"><a href=\"item?id=32263444\">5 hours ago</a></span> <span id=\"unv_32263444\"></span> | <a href=\"hide?id=32263444&amp;goto=news\">hide</a> | <a href=\"item?id=32263444\">376 comments</a> </td></tr>\n",
      "<tr class=\"spacer\" style=\"height:5px\"></tr>\n",
      "<tr class=\"athing\" id=\"32265429\">\n",
      "<td align=\"right\" class=\"title\" valign=\"top\"><span class=\"rank\">26.</span></td> <td class=\"votelinks\" valign=\"top\"><center><a href=\"vote?id=32265429&amp;how=up&amp;goto=news\" id=\"up_32265429\"><div class=\"votearrow\" title=\"upvote\"></div></a></center></td><td class=\"title\"><a class=\"titlelink\" href=\"https://godotengine.org/article/godot-4-0-development-enters-feature-freeze\">Godot 4.0 development enters feature freeze ahead of the first beta</a><span class=\"sitebit comhead\"> (<a href=\"from?site=godotengine.org\"><span class=\"sitestr\">godotengine.org</span></a>)</span></td></tr><tr><td colspan=\"2\"></td><td class=\"subtext\">\n",
      "<span class=\"score\" id=\"score_32265429\">126 points</span> by <a class=\"hnuser\" href=\"user?id=tianreyma\">tianreyma</a> <span class=\"age\" title=\"2022-07-28T15:13:32\"><a href=\"item?id=32265429\">3 hours ago</a></span> <span id=\"unv_32265429\"></span> | <a href=\"hide?id=32265429&amp;goto=news\">hide</a> | <a href=\"item?id=32265429\">61 comments</a> </td></tr>\n",
      "<tr class=\"spacer\" style=\"height:5px\"></tr>\n",
      "<tr class=\"athing\" id=\"32261868\">\n",
      "<td align=\"right\" class=\"title\" valign=\"top\"><span class=\"rank\">27.</span></td> <td class=\"votelinks\" valign=\"top\"><center><a href=\"vote?id=32261868&amp;how=up&amp;goto=news\" id=\"up_32261868\"><div class=\"votearrow\" title=\"upvote\"></div></a></center></td><td class=\"title\"><a class=\"titlelink\" href=\"https://old.reddit.com/r/tifu/comments/wa230m/tifu_by_using_stripe_as_a_payment_processor_for/\">TIFU by using Stripe as a payment processor for my small business</a><span class=\"sitebit comhead\"> (<a href=\"from?site=reddit.com\"><span class=\"sitestr\">reddit.com</span></a>)</span></td></tr><tr><td colspan=\"2\"></td><td class=\"subtext\">\n",
      "<span class=\"score\" id=\"score_32261868\">504 points</span> by <a class=\"hnuser\" href=\"user?id=ahiknsr\">ahiknsr</a> <span class=\"age\" title=\"2022-07-28T08:50:39\"><a href=\"item?id=32261868\">9 hours ago</a></span> <span id=\"unv_32261868\"></span> | <a href=\"hide?id=32261868&amp;goto=news\">hide</a> | <a href=\"item?id=32261868\">376 comments</a> </td></tr>\n",
      "<tr class=\"spacer\" style=\"height:5px\"></tr>\n",
      "<tr class=\"athing\" id=\"32265000\">\n",
      "<td align=\"right\" class=\"title\" valign=\"top\"><span class=\"rank\">28.</span></td> <td class=\"votelinks\" valign=\"top\"><center><a href=\"vote?id=32265000&amp;how=up&amp;goto=news\" id=\"up_32265000\"><div class=\"votearrow\" title=\"upvote\"></div></a></center></td><td class=\"title\"><a class=\"titlelink\" href=\"https://www.theatlantic.com/ideas/archive/2022/07/social-media-harm-facebook-meta-response/670975/\">Yes, social media is undermining democracy</a><span class=\"sitebit comhead\"> (<a href=\"from?site=theatlantic.com\"><span class=\"sitestr\">theatlantic.com</span></a>)</span></td></tr><tr><td colspan=\"2\"></td><td class=\"subtext\">\n",
      "<span class=\"score\" id=\"score_32265000\">118 points</span> by <a class=\"hnuser\" href=\"user?id=samizdis\">samizdis</a> <span class=\"age\" title=\"2022-07-28T14:42:59\"><a href=\"item?id=32265000\">3 hours ago</a></span> <span id=\"unv_32265000\"></span> | <a href=\"hide?id=32265000&amp;goto=news\">hide</a> | <a href=\"item?id=32265000\">148 comments</a> </td></tr>\n",
      "<tr class=\"spacer\" style=\"height:5px\"></tr>\n",
      "<tr class=\"athing\" id=\"32264454\">\n",
      "<td align=\"right\" class=\"title\" valign=\"top\"><span class=\"rank\">29.</span></td> <td class=\"votelinks\" valign=\"top\"><center><a href=\"vote?id=32264454&amp;how=up&amp;goto=news\" id=\"up_32264454\"><div class=\"votearrow\" title=\"upvote\"></div></a></center></td><td class=\"title\"><a class=\"titlelink\" href=\"https://techcrunch.com/2022/07/28/retool-raises-45m-at-a-3-2b-valuation-to-make-building-custom-software-as-easy-as-buying-off-the-shelf/\">Retool raises $45M at a $3.2B valuation</a><span class=\"sitebit comhead\"> (<a href=\"from?site=techcrunch.com\"><span class=\"sitestr\">techcrunch.com</span></a>)</span></td></tr><tr><td colspan=\"2\"></td><td class=\"subtext\">\n",
      "<span class=\"score\" id=\"score_32264454\">119 points</span> by <a class=\"hnuser\" href=\"user?id=dvdhsu\">dvdhsu</a> <span class=\"age\" title=\"2022-07-28T14:05:27\"><a href=\"item?id=32264454\">4 hours ago</a></span> <span id=\"unv_32264454\"></span> | <a href=\"hide?id=32264454&amp;goto=news\">hide</a> | <a href=\"item?id=32264454\">53 comments</a> </td></tr>\n",
      "<tr class=\"spacer\" style=\"height:5px\"></tr>\n",
      "<tr class=\"athing\" id=\"32260354\">\n",
      "<td align=\"right\" class=\"title\" valign=\"top\"><span class=\"rank\">30.</span></td> <td class=\"votelinks\" valign=\"top\"><center><a href=\"vote?id=32260354&amp;how=up&amp;goto=news\" id=\"up_32260354\"><div class=\"votearrow\" title=\"upvote\"></div></a></center></td><td class=\"title\"><a class=\"titlelink\" href=\"https://www.the-tls.co.uk/articles/straw-man-arguments-scott-aikin-john-casey-book-review-mary-leng/\">The Harry Potter fallacy</a><span class=\"sitebit comhead\"> (<a href=\"from?site=the-tls.co.uk\"><span class=\"sitestr\">the-tls.co.uk</span></a>)</span></td></tr><tr><td colspan=\"2\"></td><td class=\"subtext\">\n",
      "<span class=\"score\" id=\"score_32260354\">144 points</span> by <a class=\"hnuser\" href=\"user?id=yamrzou\">yamrzou</a> <span class=\"age\" title=\"2022-07-28T04:02:45\"><a href=\"item?id=32260354\">14 hours ago</a></span> <span id=\"unv_32260354\"></span> | <a href=\"hide?id=32260354&amp;goto=news\">hide</a> | <a href=\"item?id=32260354\">168 comments</a> </td></tr>\n",
      "<tr class=\"spacer\" style=\"height:5px\"></tr>\n",
      "<tr class=\"morespace\" style=\"height:10px\"></tr><tr><td colspan=\"2\"></td>\n",
      "<td class=\"title\"><a class=\"morelink\" href=\"news?p=2\" rel=\"next\">More</a></td> </tr>\n",
      "</table>\n",
      "</td></tr>\n",
      "<tr><td><img height=\"10\" src=\"s.gif\" width=\"0\"/><table cellpadding=\"1\" cellspacing=\"0\" width=\"100%\"><tr><td bgcolor=\"#ff6600\"></td></tr></table><br/><center><span class=\"yclinks\"><a href=\"newsguidelines.html\">Guidelines</a>\n",
      "        | <a href=\"newsfaq.html\">FAQ</a>\n",
      "        | <a href=\"lists\">Lists</a>\n",
      "        | <a href=\"https://github.com/HackerNews/API\">API</a>\n",
      "        | <a href=\"security.html\">Security</a>\n",
      "        | <a href=\"http://www.ycombinator.com/legal/\">Legal</a>\n",
      "        | <a href=\"http://www.ycombinator.com/apply/\">Apply to YC</a>\n",
      "        | <a href=\"mailto:hn@ycombinator.com\">Contact</a></span><br/><br/><form action=\"//hn.algolia.com/\" method=\"get\">Search:\n",
      "          <input autocapitalize=\"off\" autocomplete=\"false\" autocorrect=\"off\" name=\"q\" size=\"17\" spellcheck=\"false\" type=\"text\" value=\"\"/></form>\n",
      "</center></td></tr>\n",
      "</table></center>]\n"
     ]
    }
   ],
   "source": [
    "print(soup.body.contents)"
   ]
  },
  {
   "cell_type": "code",
   "execution_count": 8,
   "id": "d7101ec2-323c-4115-bbad-c8529ad2d4fa",
   "metadata": {},
   "outputs": [
    {
     "name": "stdout",
     "output_type": "stream",
     "text": [
      "[<div class=\"votearrow\" title=\"upvote\"></div>, <div class=\"votearrow\" title=\"upvote\"></div>, <div class=\"votearrow\" title=\"upvote\"></div>, <div class=\"votearrow\" title=\"upvote\"></div>, <div class=\"votearrow\" title=\"upvote\"></div>, <div class=\"votearrow\" title=\"upvote\"></div>, <div class=\"votearrow\" title=\"upvote\"></div>, <div class=\"votearrow\" title=\"upvote\"></div>, <div class=\"votearrow\" title=\"upvote\"></div>, <div class=\"votearrow\" title=\"upvote\"></div>, <div class=\"votearrow\" title=\"upvote\"></div>, <div class=\"votearrow\" title=\"upvote\"></div>, <div class=\"votearrow\" title=\"upvote\"></div>, <div class=\"votearrow\" title=\"upvote\"></div>, <div class=\"votearrow\" title=\"upvote\"></div>, <div class=\"votearrow\" title=\"upvote\"></div>, <div class=\"votearrow\" title=\"upvote\"></div>, <div class=\"votearrow\" title=\"upvote\"></div>, <div class=\"votearrow\" title=\"upvote\"></div>, <div class=\"votearrow\" title=\"upvote\"></div>, <div class=\"votearrow\" title=\"upvote\"></div>, <div class=\"votearrow\" title=\"upvote\"></div>, <div class=\"votearrow\" title=\"upvote\"></div>, <div class=\"votearrow\" title=\"upvote\"></div>, <div class=\"votearrow\" title=\"upvote\"></div>, <div class=\"votearrow\" title=\"upvote\"></div>, <div class=\"votearrow\" title=\"upvote\"></div>, <div class=\"votearrow\" title=\"upvote\"></div>, <div class=\"votearrow\" title=\"upvote\"></div>]\n"
     ]
    }
   ],
   "source": [
    "print(soup.find_all('div'))"
   ]
  },
  {
   "cell_type": "markdown",
   "id": "68674ced-b0ed-4dcb-b41a-7a82754a9a41",
   "metadata": {},
   "source": [
    "## To get all the Links, we print all the 'a' Tags"
   ]
  },
  {
   "cell_type": "code",
   "execution_count": 9,
   "id": "33e527e8-6131-4f6c-9598-e8f9b239438a",
   "metadata": {},
   "outputs": [
    {
     "name": "stdout",
     "output_type": "stream",
     "text": [
      "[<a href=\"https://news.ycombinator.com\"><img height=\"18\" src=\"y18.gif\" style=\"border:1px white solid;\" width=\"18\"/></a>, <a href=\"news\">Hacker News</a>, <a href=\"newest\">new</a>, <a href=\"front\">past</a>, <a href=\"newcomments\">comments</a>, <a href=\"ask\">ask</a>, <a href=\"show\">show</a>, <a href=\"jobs\">jobs</a>, <a href=\"submit\">submit</a>, <a href=\"login?goto=news\">login</a>, <a href=\"vote?id=32266086&amp;how=up&amp;goto=news\" id=\"up_32266086\"><div class=\"votearrow\" title=\"upvote\"></div></a>, <a class=\"titlelink\" href=\"https://www.parsnip.ai/\">Show HN: Parsnip – “Duolingo for Cooking”</a>, <a href=\"from?site=parsnip.ai\"><span class=\"sitestr\">parsnip.ai</span></a>, <a class=\"hnuser\" href=\"user?id=mizzao\">mizzao</a>, <a href=\"item?id=32266086\">2 hours ago</a>, <a href=\"hide?id=32266086&amp;goto=news\">hide</a>, <a href=\"item?id=32266086\">83 comments</a>, <a href=\"vote?id=32267222&amp;how=up&amp;goto=news\" id=\"up_32267222\"><div class=\"votearrow\" title=\"upvote\"></div></a>, <a class=\"titlelink\" href=\"item?id=32267222\">AWS us-east-2 outage</a>, <a class=\"hnuser\" href=\"user?id=jchen42\">jchen42</a>, <a href=\"item?id=32267222\">1 hour ago</a>, <a href=\"hide?id=32267222&amp;goto=news\">hide</a>, <a href=\"item?id=32267222\">42 comments</a>, <a href=\"vote?id=32262856&amp;how=up&amp;goto=news\" id=\"up_32262856\"><div class=\"votearrow\" title=\"upvote\"></div></a>, <a class=\"titlelink\" href=\"https://www.deepmind.com/blog/alphafold-reveals-the-structure-of-the-protein-universe\">AlphaFold reveals the structure of the protein universe</a>, <a href=\"from?site=deepmind.com\"><span class=\"sitestr\">deepmind.com</span></a>, <a class=\"hnuser\" href=\"user?id=MindGods\">MindGods</a>, <a href=\"item?id=32262856\">6 hours ago</a>, <a href=\"hide?id=32262856&amp;goto=news\">hide</a>, <a href=\"item?id=32262856\">171 comments</a>, <a href=\"vote?id=32267817&amp;how=up&amp;goto=news\" id=\"up_32267817\"><div class=\"votearrow\" title=\"upvote\"></div></a>, <a class=\"titlelink\" href=\"http://groups.csail.mit.edu/mac/users/bob/clarisworks.php\">Folklore of ClarisWorks</a>, <a href=\"from?site=csail.mit.edu\"><span class=\"sitestr\">csail.mit.edu</span></a>, <a class=\"hnuser\" href=\"user?id=azinman2\">azinman2</a>, <a href=\"item?id=32267817\">30 minutes ago</a>, <a href=\"hide?id=32267817&amp;goto=news\">hide</a>, <a href=\"item?id=32267817\">3 comments</a>, <a href=\"vote?id=32267287&amp;how=up&amp;goto=news\" id=\"up_32267287\"><div class=\"votearrow\" title=\"upvote\"></div></a>, <a class=\"titlelink\" href=\"https://www.edgedb.com/blog/edgedb-2-0\">EdgeDB 2.0</a>, <a href=\"from?site=edgedb.com\"><span class=\"sitestr\">edgedb.com</span></a>, <a class=\"hnuser\" href=\"user?id=syrusakbary\">syrusakbary</a>, <a href=\"item?id=32267287\">1 hour ago</a>, <a href=\"hide?id=32267287&amp;goto=news\">hide</a>, <a href=\"item?id=32267287\">18 comments</a>, <a href=\"vote?id=32262545&amp;how=up&amp;goto=news\" id=\"up_32262545\"><div class=\"votearrow\" title=\"upvote\"></div></a>, <a class=\"titlelink\" href=\"https://arxiv.org/abs/2207.03005\">Mission to reach and operate at the focal region of the solar gravitational lens</a>, <a href=\"from?site=arxiv.org\"><span class=\"sitestr\">arxiv.org</span></a>, <a class=\"hnuser\" href=\"user?id=WithinReason\">WithinReason</a>, <a href=\"item?id=32262545\">7 hours ago</a>, <a href=\"hide?id=32262545&amp;goto=news\">hide</a>, <a href=\"item?id=32262545\">80 comments</a>, <a href=\"vote?id=32265223&amp;how=up&amp;goto=news\" id=\"up_32265223\"><div class=\"votearrow\" title=\"upvote\"></div></a>, <a class=\"titlelink\" href=\"item?id=32265223\">My newsletter is making $2k per month with 7k subscribers – AMA</a>, <a class=\"hnuser\" href=\"user?id=ryangilbert\">ryangilbert</a>, <a href=\"item?id=32265223\">3 hours ago</a>, <a href=\"hide?id=32265223&amp;goto=news\">hide</a>, <a href=\"item?id=32265223\">110 comments</a>, <a href=\"vote?id=32266177&amp;how=up&amp;goto=news\" id=\"up_32266177\"><div class=\"votearrow\" title=\"upvote\"></div></a>, <a class=\"titlelink\" href=\"https://www.getlago.com/blog/generating-pdf-invoices-using-lago\">Open-source API to generate PDF invoices</a>, <a href=\"from?site=getlago.com\"><span class=\"sitestr\">getlago.com</span></a>, <a class=\"hnuser\" href=\"user?id=math_reads\">math_reads</a>, <a href=\"item?id=32266177\">2 hours ago</a>, <a href=\"hide?id=32266177&amp;goto=news\">hide</a>, <a href=\"item?id=32266177\">30 comments</a>, <a class=\"titlelink\" href=\"https://upchieve.welcomekit.co/\" rel=\"nofollow\">UPchieve (EdTech Nonprofit, YC W21) is hiring senior engineers</a>, <a href=\"from?site=welcomekit.co\"><span class=\"sitestr\">welcomekit.co</span></a>, <a href=\"item?id=32267068\">1 hour ago</a>, <a href=\"hide?id=32267068&amp;goto=news\">hide</a>, <a href=\"vote?id=32263914&amp;how=up&amp;goto=news\" id=\"up_32263914\"><div class=\"votearrow\" title=\"upvote\"></div></a>, <a class=\"titlelink\" href=\"https://www.cwi.nl/news/2022/in-memoriam-martin-kersten\">Martin Kersten, creator of MonetDB, has died</a>, <a href=\"from?site=cwi.nl\"><span class=\"sitestr\">cwi.nl</span></a>, <a class=\"hnuser\" href=\"user?id=greghn\">greghn</a>, <a href=\"item?id=32263914\">4 hours ago</a>, <a href=\"hide?id=32263914&amp;goto=news\">hide</a>, <a href=\"item?id=32263914\">17 comments</a>, <a href=\"vote?id=32267016&amp;how=up&amp;goto=news\" id=\"up_32267016\"><div class=\"votearrow\" title=\"upvote\"></div></a>, <a class=\"titlelink\" href=\"https://gist.github.com/moyix/7896575befbe1b99162ccfec8d135566\">Using linear algebra to convert a large code model</a>, <a href=\"from?site=gist.github.com\"><span class=\"sitestr\">gist.github.com</span></a>, <a class=\"hnuser\" href=\"user?id=moyix\">moyix</a>, <a href=\"item?id=32267016\">1 hour ago</a>, <a href=\"hide?id=32267016&amp;goto=news\">hide</a>, <a href=\"item?id=32267016\">2 comments</a>, <a href=\"vote?id=32264942&amp;how=up&amp;goto=news\" id=\"up_32264942\"><div class=\"votearrow\" title=\"upvote\"></div></a>, <a class=\"titlelink\" href=\"http://harmful.cat-v.org/people/basic-laws-of-human-stupidity/\">Five Laws of Human Stupidity</a>, <a href=\"from?site=cat-v.org\"><span class=\"sitestr\">cat-v.org</span></a>, <a class=\"hnuser\" href=\"user?id=Budaa\">Budaa</a>, <a href=\"item?id=32264942\">3 hours ago</a>, <a href=\"hide?id=32264942&amp;goto=news\">hide</a>, <a href=\"item?id=32264942\">16 comments</a>, <a href=\"vote?id=32267266&amp;how=up&amp;goto=news\" id=\"up_32267266\"><div class=\"votearrow\" title=\"upvote\"></div></a>, <a class=\"titlelink\" href=\"https://reason.com/2022/07/26/what-is-the-fbi-hiding-about-its-raid-on-innocent-americans-safe-deposit-boxes/\">FBI is hiding details about a raid on Americans’ safe deposit boxes</a>, <a href=\"from?site=reason.com\"><span class=\"sitestr\">reason.com</span></a>, <a class=\"hnuser\" href=\"user?id=theflyingelvis\">theflyingelvis</a>, <a href=\"item?id=32267266\">1 hour ago</a>, <a href=\"hide?id=32267266&amp;goto=news\">hide</a>, <a href=\"item?id=32267266\">14 comments</a>, <a href=\"vote?id=32266351&amp;how=up&amp;goto=news\" id=\"up_32266351\"><div class=\"votearrow\" title=\"upvote\"></div></a>, <a class=\"titlelink\" href=\"https://www.papercutslibrary.com/process-notes/a-non-exhaustive-yet-fairly-thorough-view-of-big-tech-via-amazon-apple-alphabet-and-microsofts-consumer-product-lines/\">Visualization of Amazon, Apple, Alphabet, and Microsoft’s Consumer Product Lines</a>, <a href=\"from?site=papercutslibrary.com\"><span class=\"sitestr\">papercutslibrary.com</span></a>, <a class=\"hnuser\" href=\"user?id=apeconmyth\">apeconmyth</a>, <a href=\"item?id=32266351\">2 hours ago</a>, <a href=\"hide?id=32266351&amp;goto=news\">hide</a>, <a href=\"item?id=32266351\">12 comments</a>, <a href=\"vote?id=32263777&amp;how=up&amp;goto=news\" id=\"up_32263777\"><div class=\"votearrow\" title=\"upvote\"></div></a>, <a class=\"titlelink\" href=\"https://nibblestew.blogspot.com/2022/07/that-time-when-i-accidentally-social.html\">That time when I accidentally social engineered myself to a film set</a>, <a href=\"from?site=nibblestew.blogspot.com\"><span class=\"sitestr\">nibblestew.blogspot.com</span></a>, <a class=\"hnuser\" href=\"user?id=rossvor\">rossvor</a>, <a href=\"item?id=32263777\">5 hours ago</a>, <a href=\"hide?id=32263777&amp;goto=news\">hide</a>, <a href=\"item?id=32263777\">102 comments</a>, <a href=\"vote?id=32264372&amp;how=up&amp;goto=news\" id=\"up_32264372\"><div class=\"votearrow\" title=\"upvote\"></div></a>, <a class=\"titlelink\" href=\"https://pxlnv.com/blog/unplugged-mysteries/\">Unplugged Phone Mysteries</a>, <a href=\"from?site=pxlnv.com\"><span class=\"sitestr\">pxlnv.com</span></a>, <a class=\"hnuser\" href=\"user?id=hampelm\">hampelm</a>, <a href=\"item?id=32264372\">4 hours ago</a>, <a href=\"hide?id=32264372&amp;goto=news\">hide</a>, <a href=\"item?id=32264372\">25 comments</a>, <a href=\"vote?id=32263535&amp;how=up&amp;goto=news\" id=\"up_32263535\"><div class=\"votearrow\" title=\"upvote\"></div></a>, <a class=\"titlelink\" href=\"https://km-515.livejournal.com/1042.html\">Oldest and Fatherless: The Terrible Secret of Tom Bombadil (2011)</a>, <a href=\"from?site=km-515.livejournal.com\"><span class=\"sitestr\">km-515.livejournal.com</span></a>, <a class=\"hnuser\" href=\"user?id=ibobev\">ibobev</a>, <a href=\"item?id=32263535\">5 hours ago</a>, <a href=\"hide?id=32263535&amp;goto=news\">hide</a>, <a href=\"item?id=32263535\">264 comments</a>, <a href=\"vote?id=32265184&amp;how=up&amp;goto=news\" id=\"up_32265184\"><div class=\"votearrow\" title=\"upvote\"></div></a>, <a class=\"titlelink\" href=\"https://seekingalpha.com/news/3862127-house-democrats-to-propose-stock-trading-ban-in-august-report\">House Democrats to propose ban on lawmaker stock trading – report</a>, <a href=\"from?site=seekingalpha.com\"><span class=\"sitestr\">seekingalpha.com</span></a>, <a class=\"hnuser\" href=\"user?id=thesecretceo\">thesecretceo</a>, <a href=\"item?id=32265184\">3 hours ago</a>, <a href=\"hide?id=32265184&amp;goto=news\">hide</a>, <a href=\"item?id=32265184\">148 comments</a>, <a href=\"vote?id=32267154&amp;how=up&amp;goto=news\" id=\"up_32267154\"><div class=\"votearrow\" title=\"upvote\"></div></a>, <a class=\"titlelink\" href=\"https://status.zoom.us\">AWS us-east-2 outage</a>, <a href=\"from?site=zoom.us\"><span class=\"sitestr\">zoom.us</span></a>, <a class=\"hnuser\" href=\"user?id=kaustubhvp\">kaustubhvp</a>, <a href=\"item?id=32267154\">1 hour ago</a>, <a href=\"hide?id=32267154&amp;goto=news\">hide</a>, <a href=\"item?id=32267154\">37 comments</a>, <a href=\"vote?id=32261363&amp;how=up&amp;goto=news\" id=\"up_32261363\"><div class=\"votearrow\" title=\"upvote\"></div></a>, <a class=\"titlelink\" href=\"https://github.com/jorgef/engineeringladders\">A Framework for Engineering Managers</a>, <a href=\"from?site=github.com/jorgef\"><span class=\"sitestr\">github.com/jorgef</span></a>, <a class=\"hnuser\" href=\"user?id=aviramha\">aviramha</a>, <a href=\"item?id=32261363\">11 hours ago</a>, <a href=\"hide?id=32261363&amp;goto=news\">hide</a>, <a href=\"item?id=32261363\">52 comments</a>, <a href=\"vote?id=32267024&amp;how=up&amp;goto=news\" id=\"up_32267024\"><div class=\"votearrow\" title=\"upvote\"></div></a>, <a class=\"titlelink\" href=\"https://blog.salesforceairesearch.com/coderl/\">AI Coding with CodeRL: Toward Mastering Program Synthesis with Deep RL</a>, <a href=\"from?site=salesforceairesearch.com\"><span class=\"sitestr\">salesforceairesearch.com</span></a>, <a class=\"hnuser\" href=\"user?id=moyix\">moyix</a>, <a href=\"item?id=32267024\">1 hour ago</a>, <a href=\"hide?id=32267024&amp;goto=news\">hide</a>, <a href=\"item?id=32267024\">discuss</a>, <a href=\"vote?id=32263630&amp;how=up&amp;goto=news\" id=\"up_32263630\"><div class=\"votearrow\" title=\"upvote\"></div></a>, <a class=\"titlelink\" href=\"https://github.com/apple/swift-evolution/blob/main/proposals/0366-move-function.md\">Swift Proposal: Move Function</a>, <a href=\"from?site=github.com/apple\"><span class=\"sitestr\">github.com/apple</span></a>, <a class=\"hnuser\" href=\"user?id=todsacerdoti\">todsacerdoti</a>, <a href=\"item?id=32263630\">5 hours ago</a>, <a href=\"hide?id=32263630&amp;goto=news\">hide</a>, <a href=\"item?id=32263630\">60 comments</a>, <a href=\"vote?id=32264938&amp;how=up&amp;goto=news\" id=\"up_32264938\"><div class=\"votearrow\" title=\"upvote\"></div></a>, <a class=\"titlelink\" href=\"https://twitter.com/dweekly/status/1552148207248896001\">I won a suit against a party that sent me an unsolicited text message</a>, <a href=\"from?site=twitter.com/dweekly\"><span class=\"sitestr\">twitter.com/dweekly</span></a>, <a class=\"hnuser\" href=\"user?id=MrDunham\">MrDunham</a>, <a href=\"item?id=32264938\">3 hours ago</a>, <a href=\"hide?id=32264938&amp;goto=news\">hide</a>, <a href=\"item?id=32264938\">63 comments</a>, <a href=\"vote?id=32261802&amp;how=up&amp;goto=news\" id=\"up_32261802\"><div class=\"votearrow\" title=\"upvote\"></div></a>, <a class=\"titlelink\" href=\"https://support.apple.com/en-euro/HT212850\">About communication safety in Messages</a>, <a href=\"from?site=support.apple.com\"><span class=\"sitestr\">support.apple.com</span></a>, <a class=\"hnuser\" href=\"user?id=komape\">komape</a>, <a href=\"item?id=32261802\">9 hours ago</a>, <a href=\"hide?id=32261802&amp;goto=news\">hide</a>, <a href=\"item?id=32261802\">274 comments</a>, <a href=\"vote?id=32263444&amp;how=up&amp;goto=news\" id=\"up_32263444\"><div class=\"votearrow\" title=\"upvote\"></div></a>, <a class=\"titlelink\" href=\"https://www.bea.gov/news/2022/gross-domestic-product-second-quarter-2022-advance-estimate\">US Gross Domestic Product, Second Quarter 2022 (Advance Estimate)</a>, <a href=\"from?site=bea.gov\"><span class=\"sitestr\">bea.gov</span></a>, <a class=\"hnuser\" href=\"user?id=mrep\">mrep</a>, <a href=\"item?id=32263444\">5 hours ago</a>, <a href=\"hide?id=32263444&amp;goto=news\">hide</a>, <a href=\"item?id=32263444\">376 comments</a>, <a href=\"vote?id=32265429&amp;how=up&amp;goto=news\" id=\"up_32265429\"><div class=\"votearrow\" title=\"upvote\"></div></a>, <a class=\"titlelink\" href=\"https://godotengine.org/article/godot-4-0-development-enters-feature-freeze\">Godot 4.0 development enters feature freeze ahead of the first beta</a>, <a href=\"from?site=godotengine.org\"><span class=\"sitestr\">godotengine.org</span></a>, <a class=\"hnuser\" href=\"user?id=tianreyma\">tianreyma</a>, <a href=\"item?id=32265429\">3 hours ago</a>, <a href=\"hide?id=32265429&amp;goto=news\">hide</a>, <a href=\"item?id=32265429\">61 comments</a>, <a href=\"vote?id=32261868&amp;how=up&amp;goto=news\" id=\"up_32261868\"><div class=\"votearrow\" title=\"upvote\"></div></a>, <a class=\"titlelink\" href=\"https://old.reddit.com/r/tifu/comments/wa230m/tifu_by_using_stripe_as_a_payment_processor_for/\">TIFU by using Stripe as a payment processor for my small business</a>, <a href=\"from?site=reddit.com\"><span class=\"sitestr\">reddit.com</span></a>, <a class=\"hnuser\" href=\"user?id=ahiknsr\">ahiknsr</a>, <a href=\"item?id=32261868\">9 hours ago</a>, <a href=\"hide?id=32261868&amp;goto=news\">hide</a>, <a href=\"item?id=32261868\">376 comments</a>, <a href=\"vote?id=32265000&amp;how=up&amp;goto=news\" id=\"up_32265000\"><div class=\"votearrow\" title=\"upvote\"></div></a>, <a class=\"titlelink\" href=\"https://www.theatlantic.com/ideas/archive/2022/07/social-media-harm-facebook-meta-response/670975/\">Yes, social media is undermining democracy</a>, <a href=\"from?site=theatlantic.com\"><span class=\"sitestr\">theatlantic.com</span></a>, <a class=\"hnuser\" href=\"user?id=samizdis\">samizdis</a>, <a href=\"item?id=32265000\">3 hours ago</a>, <a href=\"hide?id=32265000&amp;goto=news\">hide</a>, <a href=\"item?id=32265000\">148 comments</a>, <a href=\"vote?id=32264454&amp;how=up&amp;goto=news\" id=\"up_32264454\"><div class=\"votearrow\" title=\"upvote\"></div></a>, <a class=\"titlelink\" href=\"https://techcrunch.com/2022/07/28/retool-raises-45m-at-a-3-2b-valuation-to-make-building-custom-software-as-easy-as-buying-off-the-shelf/\">Retool raises $45M at a $3.2B valuation</a>, <a href=\"from?site=techcrunch.com\"><span class=\"sitestr\">techcrunch.com</span></a>, <a class=\"hnuser\" href=\"user?id=dvdhsu\">dvdhsu</a>, <a href=\"item?id=32264454\">4 hours ago</a>, <a href=\"hide?id=32264454&amp;goto=news\">hide</a>, <a href=\"item?id=32264454\">53 comments</a>, <a href=\"vote?id=32260354&amp;how=up&amp;goto=news\" id=\"up_32260354\"><div class=\"votearrow\" title=\"upvote\"></div></a>, <a class=\"titlelink\" href=\"https://www.the-tls.co.uk/articles/straw-man-arguments-scott-aikin-john-casey-book-review-mary-leng/\">The Harry Potter fallacy</a>, <a href=\"from?site=the-tls.co.uk\"><span class=\"sitestr\">the-tls.co.uk</span></a>, <a class=\"hnuser\" href=\"user?id=yamrzou\">yamrzou</a>, <a href=\"item?id=32260354\">14 hours ago</a>, <a href=\"hide?id=32260354&amp;goto=news\">hide</a>, <a href=\"item?id=32260354\">168 comments</a>, <a class=\"morelink\" href=\"news?p=2\" rel=\"next\">More</a>, <a href=\"newsguidelines.html\">Guidelines</a>, <a href=\"newsfaq.html\">FAQ</a>, <a href=\"lists\">Lists</a>, <a href=\"https://github.com/HackerNews/API\">API</a>, <a href=\"security.html\">Security</a>, <a href=\"http://www.ycombinator.com/legal/\">Legal</a>, <a href=\"http://www.ycombinator.com/apply/\">Apply to YC</a>, <a href=\"mailto:hn@ycombinator.com\">Contact</a>]\n"
     ]
    }
   ],
   "source": [
    "print(soup.find_all('a'))"
   ]
  },
  {
   "cell_type": "code",
   "execution_count": 10,
   "id": "59ed08ab-f013-4e4b-bd86-ea6c06483e39",
   "metadata": {},
   "outputs": [
    {
     "name": "stdout",
     "output_type": "stream",
     "text": [
      "<a href=\"https://news.ycombinator.com\"><img height=\"18\" src=\"y18.gif\" style=\"border:1px white solid;\" width=\"18\"/></a>\n"
     ]
    }
   ],
   "source": [
    "print(soup.a)"
   ]
  },
  {
   "cell_type": "markdown",
   "id": "61a88fdb-2fe1-4fcb-a195-b12ca7e095a9",
   "metadata": {},
   "source": [
    "## Find returns the first result.\n",
    "## It can also be used to locate a particular object in the HTML file."
   ]
  },
  {
   "cell_type": "code",
   "execution_count": 11,
   "id": "88e6b1fc-7c41-4d45-a216-435a9c80c14d",
   "metadata": {},
   "outputs": [
    {
     "name": "stdout",
     "output_type": "stream",
     "text": [
      "<a href=\"https://news.ycombinator.com\"><img height=\"18\" src=\"y18.gif\" style=\"border:1px white solid;\" width=\"18\"/></a>\n"
     ]
    }
   ],
   "source": [
    "print(soup.find('a'))"
   ]
  },
  {
   "cell_type": "code",
   "execution_count": 12,
   "id": "25a1ea77-c4a6-43b6-b908-4395ef50cf5f",
   "metadata": {},
   "outputs": [
    {
     "name": "stdout",
     "output_type": "stream",
     "text": [
      "None\n"
     ]
    }
   ],
   "source": [
    "print(soup.find(id='score_32242581'))"
   ]
  },
  {
   "cell_type": "markdown",
   "id": "a588ffb4-8163-4b1a-8278-c94723787833",
   "metadata": {},
   "source": [
    "## Selectors"
   ]
  },
  {
   "cell_type": "markdown",
   "id": "d63de426-7a77-43e6-983a-d4afd4d6fa70",
   "metadata": {},
   "source": [
    "#### To select all the class objects we use .select('.claassname')"
   ]
  },
  {
   "cell_type": "code",
   "execution_count": 13,
   "id": "e328511a-aa4e-4c2a-92e8-1c02492efd27",
   "metadata": {},
   "outputs": [
    {
     "name": "stdout",
     "output_type": "stream",
     "text": [
      "[<span class=\"score\" id=\"score_32266086\">152 points</span>, <span class=\"score\" id=\"score_32267222\">143 points</span>, <span class=\"score\" id=\"score_32262856\">422 points</span>, <span class=\"score\" id=\"score_32267817\">17 points</span>, <span class=\"score\" id=\"score_32267287\">42 points</span>, <span class=\"score\" id=\"score_32262545\">233 points</span>, <span class=\"score\" id=\"score_32265223\">166 points</span>, <span class=\"score\" id=\"score_32266177\">42 points</span>, <span class=\"score\" id=\"score_32263914\">96 points</span>, <span class=\"score\" id=\"score_32267016\">16 points</span>, <span class=\"score\" id=\"score_32264942\">45 points</span>, <span class=\"score\" id=\"score_32267266\">62 points</span>, <span class=\"score\" id=\"score_32266351\">24 points</span>, <span class=\"score\" id=\"score_32263777\">90 points</span>, <span class=\"score\" id=\"score_32264372\">59 points</span>, <span class=\"score\" id=\"score_32263535\">290 points</span>, <span class=\"score\" id=\"score_32265184\">216 points</span>, <span class=\"score\" id=\"score_32267154\">77 points</span>, <span class=\"score\" id=\"score_32261363\">296 points</span>, <span class=\"score\" id=\"score_32267024\">10 points</span>, <span class=\"score\" id=\"score_32263630\">80 points</span>, <span class=\"score\" id=\"score_32264938\">149 points</span>, <span class=\"score\" id=\"score_32261802\">126 points</span>, <span class=\"score\" id=\"score_32263444\">155 points</span>, <span class=\"score\" id=\"score_32265429\">126 points</span>, <span class=\"score\" id=\"score_32261868\">504 points</span>, <span class=\"score\" id=\"score_32265000\">118 points</span>, <span class=\"score\" id=\"score_32264454\">119 points</span>, <span class=\"score\" id=\"score_32260354\">144 points</span>]\n"
     ]
    }
   ],
   "source": [
    "print(soup.select('.score'))"
   ]
  },
  {
   "cell_type": "code",
   "execution_count": 14,
   "id": "51485529-1abc-4c35-be01-b7dd3deb3a36",
   "metadata": {},
   "outputs": [
    {
     "name": "stdout",
     "output_type": "stream",
     "text": [
      "[<span class=\"age\" title=\"2022-07-28T15:57:12\"><a href=\"item?id=32266086\">2 hours ago</a></span>, <span class=\"age\" title=\"2022-07-28T17:09:05\"><a href=\"item?id=32267222\">1 hour ago</a></span>, <span class=\"age\" title=\"2022-07-28T11:18:14\"><a href=\"item?id=32262856\">6 hours ago</a></span>, <span class=\"age\" title=\"2022-07-28T17:45:54\"><a href=\"item?id=32267817\">30 minutes ago</a></span>, <span class=\"age\" title=\"2022-07-28T17:12:36\"><a href=\"item?id=32267287\">1 hour ago</a></span>, <span class=\"age\" title=\"2022-07-28T10:22:06\"><a href=\"item?id=32262545\">7 hours ago</a></span>, <span class=\"age\" title=\"2022-07-28T14:57:27\"><a href=\"item?id=32265223\">3 hours ago</a></span>, <span class=\"age\" title=\"2022-07-28T16:02:08\"><a href=\"item?id=32266177\">2 hours ago</a></span>, <span class=\"age\" title=\"2022-07-28T17:00:40\"><a href=\"item?id=32267068\">1 hour ago</a></span>, <span class=\"age\" title=\"2022-07-28T13:22:14\"><a href=\"item?id=32263914\">4 hours ago</a></span>, <span class=\"age\" title=\"2022-07-28T16:57:11\"><a href=\"item?id=32267016\">1 hour ago</a></span>, <span class=\"age\" title=\"2022-07-28T14:39:16\"><a href=\"item?id=32264942\">3 hours ago</a></span>, <span class=\"age\" title=\"2022-07-28T17:11:23\"><a href=\"item?id=32267266\">1 hour ago</a></span>, <span class=\"age\" title=\"2022-07-28T16:13:10\"><a href=\"item?id=32266351\">2 hours ago</a></span>, <span class=\"age\" title=\"2022-07-28T13:09:29\"><a href=\"item?id=32263777\">5 hours ago</a></span>, <span class=\"age\" title=\"2022-07-28T13:58:41\"><a href=\"item?id=32264372\">4 hours ago</a></span>, <span class=\"age\" title=\"2022-07-28T12:45:16\"><a href=\"item?id=32263535\">5 hours ago</a></span>, <span class=\"age\" title=\"2022-07-28T14:54:29\"><a href=\"item?id=32265184\">3 hours ago</a></span>, <span class=\"age\" title=\"2022-07-28T17:05:05\"><a href=\"item?id=32267154\">1 hour ago</a></span>, <span class=\"age\" title=\"2022-07-28T07:15:32\"><a href=\"item?id=32261363\">11 hours ago</a></span>, <span class=\"age\" title=\"2022-07-28T16:57:40\"><a href=\"item?id=32267024\">1 hour ago</a></span>, <span class=\"age\" title=\"2022-07-28T12:54:15\"><a href=\"item?id=32263630\">5 hours ago</a></span>, <span class=\"age\" title=\"2022-07-28T14:39:09\"><a href=\"item?id=32264938\">3 hours ago</a></span>, <span class=\"age\" title=\"2022-07-28T08:41:58\"><a href=\"item?id=32261802\">9 hours ago</a></span>, <span class=\"age\" title=\"2022-07-28T12:35:37\"><a href=\"item?id=32263444\">5 hours ago</a></span>, <span class=\"age\" title=\"2022-07-28T15:13:32\"><a href=\"item?id=32265429\">3 hours ago</a></span>, <span class=\"age\" title=\"2022-07-28T08:50:39\"><a href=\"item?id=32261868\">9 hours ago</a></span>, <span class=\"age\" title=\"2022-07-28T14:42:59\"><a href=\"item?id=32265000\">3 hours ago</a></span>, <span class=\"age\" title=\"2022-07-28T14:05:27\"><a href=\"item?id=32264454\">4 hours ago</a></span>, <span class=\"age\" title=\"2022-07-28T04:02:45\"><a href=\"item?id=32260354\">14 hours ago</a></span>]\n"
     ]
    }
   ],
   "source": [
    "print(soup.select('.age'))"
   ]
  },
  {
   "cell_type": "markdown",
   "id": "236f23bf-fab8-4775-8c1f-a9a379324e2a",
   "metadata": {},
   "source": [
    "#### To select just one we use .select('#element_to_be_selected_name')"
   ]
  },
  {
   "cell_type": "code",
   "execution_count": 15,
   "id": "d119d8d0-44c6-44c5-9cdb-dc7347d88b6e",
   "metadata": {},
   "outputs": [
    {
     "name": "stdout",
     "output_type": "stream",
     "text": [
      "[]\n"
     ]
    }
   ],
   "source": [
    "print(soup.select('#score_32244352'))"
   ]
  },
  {
   "cell_type": "markdown",
   "id": "d789f049-74c8-4bcb-9314-4b5d506ed4c7",
   "metadata": {},
   "source": [
    "## HackerNews Project"
   ]
  },
  {
   "cell_type": "code",
   "execution_count": 16,
   "id": "4c7e32a2-8a56-4a00-8c13-6d70dc81f36c",
   "metadata": {},
   "outputs": [],
   "source": [
    "link = soup.select('.titlelink')\n",
    "link2 = soup2.select('.titlelink')\n",
    "link3 = soup3.select('.titlelink')"
   ]
  },
  {
   "cell_type": "code",
   "execution_count": 17,
   "id": "8eddbc87-162c-4e93-bb34-5fdab82e3f88",
   "metadata": {},
   "outputs": [],
   "source": [
    "subtext = soup.select('.subtext')\n",
    "subtext2 = soup2.select('.subtext')\n",
    "subtext3 = soup3.select('.subtext')"
   ]
  },
  {
   "cell_type": "code",
   "execution_count": 19,
   "id": "3d1f8d3e-7cea-424d-88ad-837f89458080",
   "metadata": {},
   "outputs": [],
   "source": [
    "mega_link = link + link2 + link3\n",
    "mega_subtext = subtext + subtext2 + subtext3"
   ]
  },
  {
   "cell_type": "code",
   "execution_count": 20,
   "id": "6d625d9f-1a70-44dc-9f25-2b70a861d786",
   "metadata": {},
   "outputs": [
    {
     "name": "stdout",
     "output_type": "stream",
     "text": [
      "<td class=\"subtext\">\n",
      "<span class=\"score\" id=\"score_32266086\">152 points</span> by <a class=\"hnuser\" href=\"user?id=mizzao\">mizzao</a> <span class=\"age\" title=\"2022-07-28T15:57:12\"><a href=\"item?id=32266086\">2 hours ago</a></span> <span id=\"unv_32266086\"></span> | <a href=\"hide?id=32266086&amp;goto=news\">hide</a> | <a href=\"item?id=32266086\">83 comments</a> </td>\n"
     ]
    }
   ],
   "source": [
    "print(subtext[0])  #to verify we print the first point related to the first link."
   ]
  },
  {
   "cell_type": "markdown",
   "id": "8516f4a3-4c83-4834-a8a1-77a8ba2208e8",
   "metadata": {},
   "source": [
    "##### In order to select data and form a link we have to first create a select string with the class object and then we can combine it with .get as above to create chain and extract data"
   ]
  },
  {
   "cell_type": "code",
   "execution_count": 21,
   "id": "e22ade81-06d4-4eae-a68d-241cb9b003c3",
   "metadata": {},
   "outputs": [
    {
     "name": "stdout",
     "output_type": "stream",
     "text": [
      "None\n"
     ]
    }
   ],
   "source": [
    "print(subtext[2].get('id'))  "
   ]
  },
  {
   "cell_type": "markdown",
   "id": "625f013f-11a8-4264-aa1a-42638777ac52",
   "metadata": {},
   "source": [
    "### Creating Custom Function"
   ]
  },
  {
   "cell_type": "code",
   "execution_count": 22,
   "id": "00a84b25-5c4a-456d-83cf-3f937cb1f26c",
   "metadata": {},
   "outputs": [],
   "source": [
    "def sort_stories_by_points(HNList):\n",
    "    return sorted(HNList, key = lambda k:k['Votes'], reverse=True)\n",
    "\n",
    "def create_custom_HN(link, subtext):\n",
    "    HN = []\n",
    "    for idx, items in enumerate(link):\n",
    "        title = link[idx].getText()\n",
    "        href = link[idx].get('href', None)\n",
    "        point = subtext[idx].select('.score')\n",
    "        if len(point):\n",
    "            vote = int(point[0].getText().replace(' points', ''))\n",
    "            if vote > 150:\n",
    "                HN.append({'Title' : title, 'Link' : href, 'Votes' : vote})\n",
    "    return sort_stories_by_points(HN)"
   ]
  },
  {
   "cell_type": "code",
   "execution_count": 24,
   "id": "b0ecf29e-a0d2-4f9a-a9e7-1c46b233efe8",
   "metadata": {},
   "outputs": [
    {
     "name": "stdout",
     "output_type": "stream",
     "text": [
      "[{'Link': 'https://fly.io/blog/sqlite-internals-btree/',\n",
      "  'Title': 'SQLite Internals: Pages and B-trees',\n",
      "  'Votes': 626},\n",
      " {'Link': 'https://nnethercote.github.io/2022/07/27/twenty-years-of-valgrind.html',\n",
      "  'Title': 'Twenty years of Valgrind',\n",
      "  'Votes': 608},\n",
      " {'Link': 'https://old.reddit.com/r/tifu/comments/wa230m/tifu_by_using_stripe_as_a_payment_processor_for/',\n",
      "  'Title': 'TIFU by using Stripe as a payment processor for my small business',\n",
      "  'Votes': 504},\n",
      " {'Link': 'https://www.deepmind.com/blog/alphafold-reveals-the-structure-of-the-protein-universe',\n",
      "  'Title': 'AlphaFold reveals the structure of the protein universe',\n",
      "  'Votes': 422},\n",
      " {'Link': 'https://mathspp.com/blog/how-to-create-a-python-package-in-2022',\n",
      "  'Title': 'How to create a Python package in 2022',\n",
      "  'Votes': 378},\n",
      " {'Link': 'https://everything2.com/title/You+have+a+sad+feeling+for+a+moment%252C+then+it+passes',\n",
      "  'Title': 'You have a sad feeling for a moment, then it passes',\n",
      "  'Votes': 364},\n",
      " {'Link': 'https://ahgamut.github.io/2022/07/27/ape-rust-example/',\n",
      "  'Title': 'Rust is actually portable',\n",
      "  'Votes': 329},\n",
      " {'Link': 'https://www.nytimes.com/2022/07/27/climate/james-lovelock-dead.html',\n",
      "  'Title': 'James Lovelock has died',\n",
      "  'Votes': 322},\n",
      " {'Link': 'https://www.merriam-webster.com/words-at-play/the-history-of-ampersand',\n",
      "  'Title': 'The History of ‘Ampersand’ (2020)',\n",
      "  'Votes': 309},\n",
      " {'Link': 'https://t0.vc/7/',\n",
      "  'Title': 'Fake Dog for Home Security',\n",
      "  'Votes': 307},\n",
      " {'Link': 'https://nikonrumors.com/2022/07/26/nikon-released-new-firmware-update-for-the-almost-10-years-old-d7100-dslr-camera.aspx/',\n",
      "  'Title': 'Nikon releases bug fix firmware update for the 10 year-old D7100 '\n",
      "           'DSLR camera',\n",
      "  'Votes': 301},\n",
      " {'Link': 'https://github.com/jorgef/engineeringladders',\n",
      "  'Title': 'A Framework for Engineering Managers',\n",
      "  'Votes': 296},\n",
      " {'Link': 'https://km-515.livejournal.com/1042.html',\n",
      "  'Title': 'Oldest and Fatherless: The Terrible Secret of Tom Bombadil (2011)',\n",
      "  'Votes': 290},\n",
      " {'Link': 'https://www.esquire.com/news-politics/a35812573/steven-donziger-chevron-house-arrest/',\n",
      "  'Title': \"I've been targeted with a vicious corporate counterattack (2021)\",\n",
      "  'Votes': 289},\n",
      " {'Link': 'https://diziet.dreamwidth.org/11840.html',\n",
      "  'Title': 'Upgrading from Debian Jessie to Bullseye after nearly 30 years',\n",
      "  'Votes': 271},\n",
      " {'Link': 'https://arxiv.org/abs/2207.03005',\n",
      "  'Title': 'Mission to reach and operate at the focal region of the solar '\n",
      "           'gravitational lens',\n",
      "  'Votes': 233},\n",
      " {'Link': 'https://chicagoreader.com/news-politics/shotspotter-held-in-contempt-of-court/',\n",
      "  'Title': 'ShotSpotter requests to be held in contempt rather than disclose '\n",
      "           'its methodology',\n",
      "  'Votes': 230},\n",
      " {'Link': 'https://twitter.com/culturaltutor/status/1551976051860963333',\n",
      "  'Title': 'Has the world become less colourful?',\n",
      "  'Votes': 228},\n",
      " {'Link': 'https://www.nationalgeographic.co.uk/history-and-civilisation/2022/02/notre-dame-rises-again',\n",
      "  'Title': 'Notre Dame rises again',\n",
      "  'Votes': 218},\n",
      " {'Link': 'https://seekingalpha.com/news/3862127-house-democrats-to-propose-stock-trading-ban-in-august-report',\n",
      "  'Title': 'House Democrats to propose ban on lawmaker stock trading – report',\n",
      "  'Votes': 216},\n",
      " {'Link': 'https://www.cnil.fr/en/qa-cnils-formal-notices-concerning-use-google-analytics',\n",
      "  'Title': 'CNIL makes Google Analytics almost illegal in France',\n",
      "  'Votes': 215},\n",
      " {'Link': 'http://www.mitsuba-renderer.org',\n",
      "  'Title': 'Mitsuba 3 Physically Based Renderer',\n",
      "  'Votes': 203},\n",
      " {'Link': 'https://github.com/ronami/HypeScript',\n",
      "  'Title': \"HypeScript: Simplified TypeScript type system in TypeScript's own \"\n",
      "           'type system',\n",
      "  'Votes': 189},\n",
      " {'Link': 'https://shitpost.plover.com/g/graphviz-usa.html',\n",
      "  'Title': 'How Graphviz thinks the USA is laid out (2021)',\n",
      "  'Votes': 188},\n",
      " {'Link': 'https://www.csail.mit.edu/news/how-wikipedia-influences-judicial-behavior',\n",
      "  'Title': 'How Wikipedia influences judicial behavior',\n",
      "  'Votes': 181},\n",
      " {'Link': 'https://xkln.net/blog/icmp-ping-and-traceroute--what-i-wish-i-was-taught/',\n",
      "  'Title': 'ICMP, Ping, and Traceroute – What I wish I was taught (2020)',\n",
      "  'Votes': 175},\n",
      " {'Link': 'https://www.bloomberg.com/news/articles/2022-07-27/google-delays-phasing-out-ad-cookies-on-chrome-until-2024',\n",
      "  'Title': 'Google delays phasing out ad cookies on Chrome until 2024',\n",
      "  'Votes': 168},\n",
      " {'Link': 'item?id=32265223',\n",
      "  'Title': 'My newsletter is making $2k per month with 7k subscribers – AMA',\n",
      "  'Votes': 166},\n",
      " {'Link': 'https://www.bea.gov/news/2022/gross-domestic-product-second-quarter-2022-advance-estimate',\n",
      "  'Title': 'US Gross Domestic Product, Second Quarter 2022 (Advance Estimate)',\n",
      "  'Votes': 155},\n",
      " {'Link': 'https://www.parsnip.ai/',\n",
      "  'Title': 'Show HN: Parsnip – “Duolingo for Cooking”',\n",
      "  'Votes': 152}]\n"
     ]
    }
   ],
   "source": [
    "pprint.pprint(create_custom_HN(mega_link, mega_subtext))"
   ]
  },
  {
   "cell_type": "code",
   "execution_count": null,
   "id": "4c4f86b6-1c7d-4718-b5e7-1ed30a67bd9f",
   "metadata": {},
   "outputs": [],
   "source": []
  },
  {
   "cell_type": "code",
   "execution_count": null,
   "id": "2f343f4c-486e-4001-9d89-c9448f99e55a",
   "metadata": {},
   "outputs": [],
   "source": []
  }
 ],
 "metadata": {
  "kernelspec": {
   "display_name": "Python 3 (ipykernel)",
   "language": "python",
   "name": "python3"
  },
  "language_info": {
   "codemirror_mode": {
    "name": "ipython",
    "version": 3
   },
   "file_extension": ".py",
   "mimetype": "text/x-python",
   "name": "python",
   "nbconvert_exporter": "python",
   "pygments_lexer": "ipython3",
   "version": "3.9.12"
  }
 },
 "nbformat": 4,
 "nbformat_minor": 5
}
